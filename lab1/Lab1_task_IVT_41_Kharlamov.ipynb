{
  "cells": [
    {
      "cell_type": "markdown",
      "metadata": {
        "id": "mu3yEoEzabYS"
      },
      "source": [
        "# Лабораторная работа № 1. Введение в язык программирования Python. Домашнее задание."
      ]
    },
    {
      "cell_type": "markdown",
      "metadata": {
        "id": "CHyY8RTuV7hu"
      },
      "source": [
        "## 1. Базовый уровень"
      ]
    },
    {
      "cell_type": "markdown",
      "metadata": {
        "id": "fmIsD_8fabYc"
      },
      "source": [
        "### Задание 1.1\n",
        "\n",
        "Напишите функцию *limited_sum(my_list, n)*, которая принимает список чисел *my_list* (количество товаров разных марок) и число *n* и возвращает сумму всех чисел списка меньше либо равных *n* (суммарное количество товаров, которых в наличие меньше либо равно *n*)."
      ]
    },
    {
      "cell_type": "code",
      "execution_count": 11,
      "metadata": {
        "id": "nwocC1q0abYe"
      },
      "outputs": [],
      "source": [
        "def limited_sum(my_list, n):\n",
        "    # напишите здесь ваше решение\n",
        "    sum = 0\n",
        "    for el in my_list:\n",
        "        if (el <= n): sum += el\n",
        "    return sum"
      ]
    },
    {
      "cell_type": "code",
      "execution_count": 12,
      "metadata": {
        "id": "VfvOQYhgabYi",
        "colab": {
          "base_uri": "https://localhost:8080/"
        },
        "outputId": "5f55ad41-2936-40bb-972c-b3601426691c"
      },
      "outputs": [
        {
          "output_type": "stream",
          "name": "stdout",
          "text": [
            "True\n",
            "True\n",
            "True\n",
            "True\n",
            "True\n"
          ]
        }
      ],
      "source": [
        "print(limited_sum([1, 2, 3, 4, 5, 6, 3, 7], 7) == 31)\n",
        "print(limited_sum([1, 2, 3, 4, 4, 3, 2, 1], 7) == 20)\n",
        "print(limited_sum([1, 2, 3, 4, 4, 3, 2, 1], 3) == 12)\n",
        "print(limited_sum([1, 2, 3, 4, 5, 6, 3, 7], 5) == 18)\n",
        "print(limited_sum([1, 2, 3, 4, 5, 6, 3, 7], 3) == 9)"
      ]
    },
    {
      "cell_type": "markdown",
      "metadata": {
        "id": "7i5MJJ8OV7h1"
      },
      "source": [
        "### Задание 1.2\n",
        "\n",
        "Напишите функцию *factorial(n)*, принимающую число *n* и рассчитывающую его факториал.\n",
        "\n",
        "$n! = 1 \\cdot 2 \\cdot 3 \\cdot \\dots \\cdot (n - 1) \\cdot n$"
      ]
    },
    {
      "cell_type": "code",
      "execution_count": 13,
      "metadata": {
        "id": "Q_gzWCnxV7h2"
      },
      "outputs": [],
      "source": [
        "def factorial(n):\n",
        "    # напишите здесь ваше решение\n",
        "\n",
        "    # Before fix\n",
        "    # if (n == 1): return 1\n",
        "    # return n * factorial(n-1)\n",
        "\n",
        "    # After fix\n",
        "    result = 1\n",
        "\n",
        "    for mult in range(n, 0, -1):\n",
        "        result *= mult\n",
        "\n",
        "    return result"
      ]
    },
    {
      "cell_type": "code",
      "execution_count": 14,
      "metadata": {
        "id": "9iTKhj7nV7h3",
        "colab": {
          "base_uri": "https://localhost:8080/"
        },
        "outputId": "97fc399d-1efd-49ab-9f72-2b1ccd844228"
      },
      "outputs": [
        {
          "output_type": "stream",
          "name": "stdout",
          "text": [
            "True\n",
            "True\n",
            "True\n",
            "True\n",
            "True\n"
          ]
        }
      ],
      "source": [
        "print(factorial(3) == 6)\n",
        "print(factorial(1) == 1)\n",
        "print(factorial(5) == 120)\n",
        "print(factorial(9) == 362880)\n",
        "print(factorial(13) == 6227020800)"
      ]
    },
    {
      "cell_type": "markdown",
      "metadata": {
        "id": "4iTxbjYIV7h4"
      },
      "source": [
        "### Задание 1.3\n",
        "\n",
        "Пользователь делает вклад в размере *a* рублей сроком на *years* лет под *n* % годовых (каждый год размер его вклада увеличивается на *n* %. Эти деньги прибавляются к сумме вклада, и на них в следующем году тоже будут проценты). Написать функцию *bank(a, years, n)*, возвращающую сумму, которая будет на счету пользователя."
      ]
    },
    {
      "cell_type": "code",
      "execution_count": 15,
      "metadata": {
        "id": "U0F3B3CRV7h6"
      },
      "outputs": [],
      "source": [
        "def bank(a, years, n):\n",
        "    # напишите здесь ваше решение\n",
        "\n",
        "    # Before fix\n",
        "    # if (years == 0): return a\n",
        "    # return bank(a + a * n / 100, years - 1, n)\n",
        "\n",
        "    # After fix\n",
        "    sum = a\n",
        "\n",
        "    for year in range(years):\n",
        "        sum += sum * n / 100\n",
        "\n",
        "    return sum"
      ]
    },
    {
      "cell_type": "code",
      "execution_count": 16,
      "metadata": {
        "id": "27PjvdWYV7h7",
        "colab": {
          "base_uri": "https://localhost:8080/"
        },
        "outputId": "5103c4bf-af84-4e39-fb81-839b50df1459"
      },
      "outputs": [
        {
          "output_type": "stream",
          "name": "stdout",
          "text": [
            "True\n",
            "True\n",
            "True\n",
            "True\n",
            "True\n"
          ]
        }
      ],
      "source": [
        "print(bank(1000, 0, 10) == 1000)\n",
        "print(bank(1000, 1, 10) == 1100)\n",
        "print(bank(1000, 2, 10) == 1210)\n",
        "print(bank(1000, 3, 10) == 1331)\n",
        "print(bank(1000, 4, 10) == 1464.1)"
      ]
    },
    {
      "cell_type": "markdown",
      "metadata": {
        "id": "Gj3vuDCHV7h7"
      },
      "source": [
        "### Задание 1.4\n",
        "\n",
        "Написать функцию *is_prime(num)*, принимающую 1 аргумент *num* — число от 0 до 1000, и возвращающую *True*, если оно простое, и *False* - иначе."
      ]
    },
    {
      "cell_type": "code",
      "execution_count": 17,
      "metadata": {
        "id": "mr8-pHZBV7h8"
      },
      "outputs": [],
      "source": [
        "def is_prime(num):\n",
        "    # напишите здесь ваше решение\n",
        "\n",
        "    # special cases\n",
        "    if (num == 1 or num == 0): return False\n",
        "\n",
        "    # general cases\n",
        "    import math\n",
        "    for n in range(2,int(math.sqrt(num))+1):\n",
        "        if num%n==0:\n",
        "            return False\n",
        "    return True"
      ]
    },
    {
      "cell_type": "code",
      "execution_count": 18,
      "metadata": {
        "id": "AhyfvraXV7h9",
        "colab": {
          "base_uri": "https://localhost:8080/"
        },
        "outputId": "96f585bb-611c-44bd-ad15-24266fca57be"
      },
      "outputs": [
        {
          "output_type": "stream",
          "name": "stdout",
          "text": [
            "True\n",
            "True\n",
            "True\n",
            "True\n",
            "True\n",
            "True\n",
            "True\n"
          ]
        }
      ],
      "source": [
        "print(is_prime(1) == False)\n",
        "print(is_prime(2) == True)\n",
        "print(is_prime(17) == True)\n",
        "print(is_prime(63) == False)\n",
        "print(is_prime(41) == True)\n",
        "print(is_prime(0) == False)\n",
        "print(is_prime(9) == False)"
      ]
    },
    {
      "cell_type": "markdown",
      "metadata": {
        "id": "MwmEzc0aV7h-"
      },
      "source": [
        "### Задание 1.5\n",
        "\n",
        "Написать функцию *has_dup(my_list)*, которая принимает на вход список *my_list* и возвращает *True*, если список содержит дубликаты, и *False*, если дубликатов нет."
      ]
    },
    {
      "cell_type": "code",
      "execution_count": 19,
      "metadata": {
        "id": "3dSWoWZaV7h-"
      },
      "outputs": [],
      "source": [
        "def has_dup(my_list):\n",
        "    # напишите здесь ваше решение\n",
        "    if len(set(my_list)) == len(my_list): return False\n",
        "    return True"
      ]
    },
    {
      "cell_type": "code",
      "execution_count": 20,
      "metadata": {
        "id": "hoePJ1QIV7h_",
        "colab": {
          "base_uri": "https://localhost:8080/"
        },
        "outputId": "dbc9dc51-254c-4750-dc12-221785094f08"
      },
      "outputs": [
        {
          "output_type": "stream",
          "name": "stdout",
          "text": [
            "True\n",
            "True\n",
            "True\n",
            "True\n",
            "True\n"
          ]
        }
      ],
      "source": [
        "print(has_dup([1,2,3,4,5]) == False)\n",
        "print(has_dup([1,2,3,3,5]) == True)\n",
        "print(has_dup([1,2,3,4,'one','two','three','four']) == False)\n",
        "print(has_dup([11,2,35,4,55,15,17,3,4,35,1]) == True)\n",
        "print(has_dup([1,2,3,4,'one','two','three','four','one']) == True)"
      ]
    },
    {
      "cell_type": "markdown",
      "metadata": {
        "id": "F9dpKutZV7iA"
      },
      "source": [
        "### Задание 1.6\n",
        "\n",
        "На основании 3-х исходных множеств (передаются в качестве аргументов функции *diff(set1, set2, set3)*) требуется написать функцию, которая будет возвращать либо симметричную разность, либо просто разность (если дополнительный аргумент функции *symmetric* имеет значение *False*) приведенных объектов в порядке: 1-ое множество, 2-ое множество, 3-е множество."
      ]
    },
    {
      "cell_type": "code",
      "execution_count": 21,
      "metadata": {
        "id": "QDyROwZ-V7iB"
      },
      "outputs": [],
      "source": [
        "def diff(set1, set2, set3, symmetric = True):\n",
        "    # напишите здесь ваше решение\n",
        "    if symmetric:\n",
        "        return set1 ^ set2 ^ set3\n",
        "    return set1 - set2 - set3"
      ]
    },
    {
      "cell_type": "code",
      "execution_count": 22,
      "metadata": {
        "id": "Lfwrraj2V7iC",
        "colab": {
          "base_uri": "https://localhost:8080/"
        },
        "outputId": "18de4e81-58cb-44ad-e526-f3037ee38c8d"
      },
      "outputs": [
        {
          "output_type": "stream",
          "name": "stdout",
          "text": [
            "True\n",
            "True\n"
          ]
        }
      ],
      "source": [
        "set1 = {3, 4, 5, 6, 20}\n",
        "set2 = {4, 6, 7, 8, 9}\n",
        "set3 = {5, 3, 8, 1}\n",
        "\n",
        "print(diff(set1, set2, set3) == {1, 20, 7, 9})\n",
        "print(diff(set1, set2, set3, symmetric = False) == {20})"
      ]
    },
    {
      "cell_type": "markdown",
      "metadata": {
        "id": "pBcLqPOOV7iD"
      },
      "source": [
        "### Задание 1.7\n",
        "\n",
        "Есть два списка чисел: *list1* - цены товаров в одном магазине - и *list2* - цены товаров в другом магазине. Напишите функцию *compare_prices(list1, list2)*, которая будет сравнивать средние цены (среднее берётся по всем товарам), минимальные и максимальные цены в магазинах. Если первое значение меньше, то надо вернуть 'First', если второе, то 'Second', а если равны, то 'Equal'."
      ]
    },
    {
      "cell_type": "code",
      "execution_count": 23,
      "metadata": {
        "id": "kvGor6SwV7iD"
      },
      "outputs": [],
      "source": [
        "def compare_prices(list1, list2):\n",
        "    # напишите здесь ваше решение\n",
        "    _mean   = lambda data: sum(data) / len(data)\n",
        "\n",
        "    # Before fix\n",
        "    # def compare(x, y):\n",
        "    #     if   x < y: return 'First'\n",
        "    #     elif x > y: return 'Second'\n",
        "    #     else:       return 'Equal'\n",
        "\n",
        "    # After fix\n",
        "    compare = lambda x, y: 'First' if x < y else 'Second' if x > y else 'Equal'\n",
        "\n",
        "    apply   = lambda funcs: [compare(func(list1), func(list2)) for func in funcs]\n",
        "    return apply([_mean, min, max])"
      ]
    },
    {
      "cell_type": "code",
      "execution_count": 24,
      "metadata": {
        "id": "DacVF8iLV7iE",
        "colab": {
          "base_uri": "https://localhost:8080/"
        },
        "outputId": "957a80a1-1a56-491e-e13e-d66249e07a76"
      },
      "outputs": [
        {
          "output_type": "stream",
          "name": "stdout",
          "text": [
            "True\n",
            "True\n",
            "True\n",
            "True\n"
          ]
        }
      ],
      "source": [
        "print(compare_prices([1, 2, 3], [2, 2, 2]) == ['Equal', 'First', 'Second'])\n",
        "print(compare_prices([2, 2, 1], [4]) == ['First', 'First', 'First'])\n",
        "print(compare_prices([3, 5], [2, 4, 6]) == ['Equal', 'Second', 'First'])\n",
        "print(compare_prices([1, 7], [2, 4, 7]) == ['First', 'First', 'Equal'])"
      ]
    },
    {
      "cell_type": "markdown",
      "metadata": {
        "id": "FJirOh5HabYz"
      },
      "source": [
        "## 2. Продвинутый уровень"
      ]
    },
    {
      "cell_type": "markdown",
      "metadata": {
        "id": "OaKCHvhLabY0"
      },
      "source": [
        "### Задание 2.1\n",
        "\n",
        "Имеется список пар (фамилия, долг) *my_list* и число *dept*. Нужно написать функцию *sorted_dept(my_list, dept)*, которая для каждой фамилии находит суммарный долг, сортирует фамилии в порядке уменьшения суммарного долга и выводит отсортированный список фамилий, у которых долг строго больше *dept*. Одна и та же фамилия может встречаться несколько раз, и тогда долги по ней суммируются."
      ]
    },
    {
      "cell_type": "code",
      "execution_count": 25,
      "metadata": {
        "id": "5F2VPgTzabY0"
      },
      "outputs": [],
      "source": [
        "def sorted_dept(my_list, dept):\n",
        "    # напишите здесь ваше решение\n",
        "\n",
        "    # Form a dictionary {surname: tatal debt, ...}\n",
        "    summed_dict = {}\n",
        "    for k,v in my_list:\n",
        "        if k in summed_dict:\n",
        "            summed_dict[k] += v\n",
        "        else:\n",
        "            summed_dict[k] = v\n",
        "\n",
        "    filtered_dict = filter(lambda surname: surname[1] > dept, summed_dict.items())\n",
        "    sorted_dict   = sorted(filtered_dict, key=lambda surname: surname[1], reverse=True)\n",
        "\n",
        "    # Get only surnames\n",
        "    return [el[0] for el in sorted_dict]"
      ]
    },
    {
      "cell_type": "code",
      "execution_count": 26,
      "metadata": {
        "id": "YeON3qj7abY1",
        "colab": {
          "base_uri": "https://localhost:8080/"
        },
        "outputId": "30cdb574-660e-4834-8014-f1a72db778c0"
      },
      "outputs": [
        {
          "output_type": "stream",
          "name": "stdout",
          "text": [
            "True\n",
            "True\n",
            "True\n",
            "True\n",
            "True\n",
            "True\n"
          ]
        }
      ],
      "source": [
        "print(sorted_dept([('Ivanov', 1), ('Petrov', 2), ('Ivanov', 2), ('Sidorov', 4)], 1) == ['Sidorov', 'Ivanov', 'Petrov'])\n",
        "print(sorted_dept([('Ivanov', 1), ('Petrov', 2), ('Ivanov', 2), ('Sidorov', 4)], 2) == ['Sidorov', 'Ivanov'])\n",
        "print(sorted_dept([('Ivanov', 1), ('Petrov', 2), ('Ivanov', 2), ('Sidorov', 4)], 3) == ['Sidorov'])\n",
        "print(sorted_dept([('Ivanov', 1), ('Petrov', 2), ('Ivanov', 2), ('Sidorov', 4)], 4) == [])\n",
        "print(sorted_dept([('Ivanov', 1), ('Petrov', 2), ('Ivanov', 2), ('Petrov', 4)], 2) == ['Petrov', 'Ivanov'])\n",
        "print(sorted_dept([('Ivanov', 1), ('Petrov', 2), ('Ivanov', 2), ('Petrov', 4)], 3) == ['Petrov'])"
      ]
    },
    {
      "cell_type": "markdown",
      "metadata": {
        "id": "AFkm2QZzV7iH"
      },
      "source": [
        "### Задание 2.2\n",
        "\n",
        "На входе имеем список строк разной длины. Необходимо написать функцию *all_eq(my_list)*, которая вернет новый список из строк одинаковой длины. Длину итоговой строки определяем исходя из самой большой из них. Если конкретная строка короче самой длинной, дополнить ее нижними подчеркиваниями с правого края до требуемого количества символов. Расположение элементов начального списка не менять."
      ]
    },
    {
      "cell_type": "code",
      "execution_count": 27,
      "metadata": {
        "id": "JSRX47QQV7iI"
      },
      "outputs": [],
      "source": [
        "def all_eq(my_list):\n",
        "    # напишите здесь ваше решение\n",
        "    max_len = len(max(my_list, key=len))\n",
        "\n",
        "    result = []\n",
        "\n",
        "    for el in my_list:\n",
        "        diff_len = max_len - len(el)\n",
        "        el += '_' * diff_len\n",
        "        result.append(el)\n",
        "\n",
        "    return result"
      ]
    },
    {
      "cell_type": "code",
      "execution_count": 28,
      "metadata": {
        "id": "ikxmHthtV7iI",
        "colab": {
          "base_uri": "https://localhost:8080/"
        },
        "outputId": "2fb3d8b2-356a-4f9a-a394-b5cc03db1020"
      },
      "outputs": [
        {
          "output_type": "stream",
          "name": "stdout",
          "text": [
            "True\n",
            "True\n",
            "True\n"
          ]
        }
      ],
      "source": [
        "print(all_eq(['крот', 'белка', 'выхухоль']) == ['крот____', 'белка___', 'выхухоль'])\n",
        "print(all_eq(['a', 'aa', 'aaa', 'aaaa', 'aaaaa']) == ['a____', 'aa___', 'aaa__', 'aaaa_', 'aaaaa'])\n",
        "print(all_eq(['qweasdqweas', 'q', 'rteww', 'ewqqqqq']) == ['qweasdqweas', 'q__________', 'rteww______', 'ewqqqqq____'])"
      ]
    },
    {
      "cell_type": "markdown",
      "metadata": {
        "id": "Lx8NDNHJV7iJ"
      },
      "source": [
        "### Задание 2.3\n",
        "\n",
        "Предоставлен список натуральных чисел. Требуется сформировать из них множество. Если какое-либо число повторяется, то преобразовать его в строку по образцу: например, если число 4 повторяется 3 раза, то в множестве будет следующая запись: само число 4, строка «44» (второе повторение, т.е. число дублируется в строке), строка «444» (третье повторение, т.е. строка множится на 3). Реализуйте вывод множества через функцию *set_gen(my_list)*."
      ]
    },
    {
      "cell_type": "code",
      "execution_count": 29,
      "metadata": {
        "id": "tIVSyjVJV7iK"
      },
      "outputs": [],
      "source": [
        "def set_gen(my_list):\n",
        "    # напишите здесь ваше решение\n",
        "\n",
        "    # Counter countes repetitions\n",
        "    from collections import Counter\n",
        "    repetitions = Counter(my_list)\n",
        "\n",
        "    result = set()\n",
        "\n",
        "    for k, v in repetitions.items():\n",
        "        # An integer is present in the result anyway. So unconditionally add it to the result.\n",
        "        result.add(k)\n",
        "\n",
        "        # If number of repetitions is greater or equal 2 then add strings\n",
        "        for i in range(2, v+1):\n",
        "            result.add(str(k) * i)\n",
        "\n",
        "    return result"
      ]
    },
    {
      "cell_type": "code",
      "execution_count": 30,
      "metadata": {
        "id": "Xj8sgUvfV7iK",
        "colab": {
          "base_uri": "https://localhost:8080/"
        },
        "outputId": "18ecb41b-0d40-4f46-e741-5b123f33e673"
      },
      "outputs": [
        {
          "output_type": "stream",
          "name": "stdout",
          "text": [
            "True\n",
            "True\n",
            "True\n"
          ]
        }
      ],
      "source": [
        "print(set_gen([1, 1, 3, 3, 1]) == {1, 3, '111', '33', '11'})\n",
        "print(set_gen([5, 5, 5, 5, 5, 5, 5]) == {'5555555', 5, '55', '55555', '5555', '555555', '555'})\n",
        "print(set_gen([2, 2, 1, 2, 2, 5, 6, 7, 1, 3, 2, 2]) == {1, 2, 3, 5, 6, 7, '22', '2222', '22222', '222', '11', '222222'})"
      ]
    },
    {
      "cell_type": "markdown",
      "metadata": {
        "id": "5wV432XuV7iL"
      },
      "source": [
        "### Задание 2.4\n",
        "\n",
        "Дана строка в виде случайной последовательности чисел от 0 до 9. Требуется создать словарь, который в качестве ключей будет принимать данные числа (т. е. ключи будут типом *int*), а в качестве значений – количество этих чисел в имеющейся последовательности. Для построения словаря создайте функцию *count_it(sequence)*, принимающую строку из цифр. Функция должна возвратить словарь из 3-х самых часто встречаемых чисел."
      ]
    },
    {
      "cell_type": "code",
      "execution_count": 31,
      "metadata": {
        "id": "l6vS0nhNV7iL"
      },
      "outputs": [],
      "source": [
        "def count_it(sequence):\n",
        "    # напишите здесь ваше решение\n",
        "\n",
        "    # Counter countes repetitions\n",
        "    from collections import Counter\n",
        "    repetitions = Counter([int(number) for number in sequence])\n",
        "\n",
        "    return dict(repetitions.most_common(3))"
      ]
    },
    {
      "cell_type": "code",
      "execution_count": 32,
      "metadata": {
        "id": "8l6NspClV7iM",
        "colab": {
          "base_uri": "https://localhost:8080/"
        },
        "outputId": "fec15080-0938-4d53-e2b5-d8677852cf97"
      },
      "outputs": [
        {
          "output_type": "stream",
          "name": "stdout",
          "text": [
            "True\n",
            "True\n",
            "True\n"
          ]
        }
      ],
      "source": [
        "print(count_it('1111111111222') == {1: 10, 2: 3})\n",
        "print(count_it('123456789012133288776655353535353441111') == {3: 8, 1: 7, 5: 7})\n",
        "\n",
        "# My result {7: 6, 4: 6, 6: 3} gives an error but the number of repetitions of 5 and 6 are equal\n",
        "# print(count_it('007767757744331166554444') == {5: 3, 7: 6, 4: 6})\n",
        "print(count_it('007767757744331166554444') == {5: 3, 7: 6, 4: 6} or count_it('007767757744331166554444') == {6: 3, 7: 6, 4: 6})"
      ]
    },
    {
      "cell_type": "markdown",
      "metadata": {
        "id": "YG-9mIixV7iN"
      },
      "source": [
        "### Задание 2.5\n",
        "\n",
        "Вам известны количество продаж разных товаров. Они представлены в виде списка *my_list*: первое значение - число продаж первого товара, второе значение - второго, и так далее. Напишите функцию *get_most_popular(my_list, n, threshold)*, которая будет выдавать список из порядковых номеров самых популярных товаров (порядковые номера - 0, 1, 2 и т.д.), чей объём продаж **выше** заданного числа *threshold*. Длина такого списка должна быть **не более** *n*, т.е. нужно выдать номера *n* самых популярных товаров."
      ]
    },
    {
      "cell_type": "code",
      "execution_count": 33,
      "metadata": {
        "id": "CgJsvZ3KV7iN"
      },
      "outputs": [],
      "source": [
        "def get_most_popular(my_list, n, threshold):\n",
        "    # напишите здесь ваше решение\n",
        "\n",
        "    # Form a list of the format: [(popularity, cardinal-1), ...]\n",
        "    popularity_el = []\n",
        "    for i, el in enumerate(my_list):\n",
        "        popularity_el.append((el, i))\n",
        "\n",
        "    filtered_popularity_el = filter(lambda el: el[0] > threshold, popularity_el)\n",
        "    sorted_popularity_el   = sorted(filtered_popularity_el, reverse=True)\n",
        "    n_first = sorted_popularity_el[:n]\n",
        "\n",
        "    # Get only cardinals\n",
        "    return [el[1]for el in n_first]"
      ]
    },
    {
      "cell_type": "code",
      "execution_count": 34,
      "metadata": {
        "scrolled": true,
        "id": "Wbk9TjrPV7iO",
        "colab": {
          "base_uri": "https://localhost:8080/"
        },
        "outputId": "9a9b9866-846d-4627-f3c7-be9ce045f982"
      },
      "outputs": [
        {
          "output_type": "stream",
          "name": "stdout",
          "text": [
            "True\n",
            "True\n",
            "True\n",
            "True\n",
            "True\n"
          ]
        }
      ],
      "source": [
        "# Не все предложенные тесты удовлетворяют условию задачи\n",
        "# print(get_most_popular([1, 2, 3, 4, 5, 6, 3, 7], 7, 1) == [7, 5, 4, 3, 2, 6, 1])\n",
        "# print(get_most_popular([1, 2, 3, 4, 5, 6, 3, 7], 7, 2) == [7, 5, 4, 3, 2, 6, 1])\n",
        "# print(get_most_popular([1, 2, 3, 4, 5, 6, 3, 7], 3, 2) == [7, 5, 4])\n",
        "# print(get_most_popular([1, 2, 3, 4, 5, 6, 3, 7], 3, 5) == [7, 5, 4])\n",
        "# print(get_most_popular([1, 2, 3, 4, 5, 6, 3, 7], 5, 5) == [7, 5, 4])\n",
        "\n",
        "# Мои тесты\n",
        "print(get_most_popular([1, 2, 3, 4, 5, 6, 3, 7], 7, 1) == [7, 5, 4, 3, 2, 6, 1] or get_most_popular([1, 2, 3, 4, 5, 6, 3, 7], 7, 1) == [7, 5, 4, 3, 6, 2, 1])\n",
        "print(get_most_popular([1, 2, 3, 4, 5, 6, 3, 7], 7, 2) == [7, 5, 4, 3, 2, 6] or get_most_popular([1, 2, 3, 4, 5, 6, 3, 7], 7, 2) == [7, 5, 4, 3, 6, 2])\n",
        "print(get_most_popular([1, 2, 3, 4, 5, 6, 3, 7], 3, 2) == [7, 5, 4])\n",
        "print(get_most_popular([1, 2, 3, 4, 5, 6, 3, 7], 3, 5) == [7, 5])\n",
        "print(get_most_popular([1, 2, 3, 4, 5, 6, 3, 7], 5, 5) == [7, 5])"
      ]
    }
  ],
  "metadata": {
    "colab": {
      "provenance": []
    },
    "kernelspec": {
      "display_name": "Python 3",
      "language": "python",
      "name": "python3"
    },
    "language_info": {
      "codemirror_mode": {
        "name": "ipython",
        "version": 3
      },
      "file_extension": ".py",
      "mimetype": "text/x-python",
      "name": "python",
      "nbconvert_exporter": "python",
      "pygments_lexer": "ipython3",
      "version": "3.8.3"
    }
  },
  "nbformat": 4,
  "nbformat_minor": 0
}